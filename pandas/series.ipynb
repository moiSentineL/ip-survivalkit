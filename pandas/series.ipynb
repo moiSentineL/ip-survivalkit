{
 "cells": [
  {
   "cell_type": "markdown",
   "id": "ae97f3d1",
   "metadata": {},
   "source": [
    "Series are nothing but single columns in a dataframe.\n",
    "Damn.\n",
    "\n",
    "So each series contain one type of data, and only that. So, doesn't matter if you give it a multi-dimensional array or dictionary, it will only be able to create one single row."
   ]
  },
  {
   "cell_type": "code",
   "execution_count": 2,
   "id": "b09c7860",
   "metadata": {},
   "outputs": [],
   "source": [
    "import pandas as pd"
   ]
  },
  {
   "cell_type": "markdown",
   "id": "d1c4a733",
   "metadata": {},
   "source": [
    "### Just creating a series"
   ]
  },
  {
   "cell_type": "code",
   "execution_count": 3,
   "id": "ededba3f",
   "metadata": {},
   "outputs": [
    {
     "name": "stdout",
     "output_type": "stream",
     "text": [
      "no         3\n",
      "hell no    4\n",
      "f no       5\n",
      "Name: lol just checking, dtype: int64\n"
     ]
    }
   ],
   "source": [
    "se = pd.Series([3, 4, 5], name=\"lol just checking\", index=['no', 'hell no', 'f no'])\n",
    "\n",
    "print(se)"
   ]
  },
  {
   "cell_type": "code",
   "execution_count": 4,
   "id": "4bfe4dd1",
   "metadata": {},
   "outputs": [],
   "source": [
    "# what are ndarrays?\n",
    "# they are just N-Dimensional matrices/arrays, but you gotta use numpy\n",
    "\n",
    "import numpy as np"
   ]
  },
  {
   "cell_type": "code",
   "execution_count": 5,
   "id": "2fc42e40",
   "metadata": {},
   "outputs": [
    {
     "name": "stdout",
     "output_type": "stream",
     "text": [
      "[ 4  9 16 25 36 49]\n",
      "[[ 1  3  5  7  9]\n",
      " [ 2  4  6  8 10]]\n"
     ]
    }
   ],
   "source": [
    "arr1 = np.array([4, 9, 16, 25, 36, 49]) # not `np.ndarray` bro.\n",
    "\n",
    "arr2 = np.array([\n",
    "    [1, 3, 5, 7, 9], \n",
    "    [2, 4, 6, 8 , 10]\n",
    "    ]) # this is a two dimensional array.\n",
    "    \n",
    "print(arr1)\n",
    "\n",
    "print(arr2)"
   ]
  },
  {
   "cell_type": "markdown",
   "id": "7393b24d",
   "metadata": {},
   "source": [
    "### Creating series from `ndarray`"
   ]
  },
  {
   "cell_type": "code",
   "execution_count": 6,
   "id": "957f4767",
   "metadata": {},
   "outputs": [
    {
     "name": "stdout",
     "output_type": "stream",
     "text": [
      "0     4\n",
      "1     9\n",
      "2    16\n",
      "3    25\n",
      "4    36\n",
      "5    49\n",
      "dtype: int64\n"
     ]
    }
   ],
   "source": [
    "se2 = pd.Series(arr1) #just put the array here. easy.\n",
    "\n",
    "print(se2)"
   ]
  },
  {
   "cell_type": "code",
   "execution_count": 7,
   "id": "8b8589de",
   "metadata": {},
   "outputs": [
    {
     "name": "stdout",
     "output_type": "stream",
     "text": [
      "0     2\n",
      "1     4\n",
      "2     6\n",
      "3     8\n",
      "4    10\n",
      "dtype: int64\n"
     ]
    }
   ],
   "source": [
    "se3 = pd.Series(arr2[1]) #from the first dimension.\n",
    "\n",
    "print(se3)"
   ]
  },
  {
   "cell_type": "markdown",
   "id": "aabc25f2",
   "metadata": {},
   "source": [
    "<!-- ### Creating from dictionaries -->"
   ]
  },
  {
   "cell_type": "markdown",
   "id": "61ff2b5e",
   "metadata": {},
   "source": [
    "### Creating from dictionaries"
   ]
  },
  {
   "cell_type": "code",
   "execution_count": 8,
   "id": "518075d4",
   "metadata": {},
   "outputs": [
    {
     "name": "stdout",
     "output_type": "stream",
     "text": [
      "0       Ford\n",
      "1    Hyundai\n",
      "dtype: object\n",
      "brand    [Ford, Hyundai]\n",
      "model            Mustang\n",
      "year                1964\n",
      "dtype: object\n"
     ]
    }
   ],
   "source": [
    "car = {\n",
    "    'brand': ['Ford', 'Hyundai'],\n",
    "    'model': 'Mustang',\n",
    "    'year': 1964\n",
    "}\n",
    "\n",
    "se4  = pd.Series(car[\"brand\"]) #because it can accept only 1d stuff. \n",
    "print(se4)\n",
    "\n",
    "se5 = pd.Series(car) # but if you give it a dict, then it will print the key (as index) - value pairs, which is quite useful. \n",
    "print(se5) "
   ]
  },
  {
   "cell_type": "markdown",
   "id": "19dc95e2",
   "metadata": {},
   "source": [
    "## Tail and Heads"
   ]
  },
  {
   "cell_type": "markdown",
   "id": "d0b2f039",
   "metadata": {},
   "source": [
    "*intuition*: heads = top, tail = bottom."
   ]
  },
  {
   "cell_type": "code",
   "execution_count": 9,
   "id": "64bdd7cc",
   "metadata": {},
   "outputs": [
    {
     "name": "stdout",
     "output_type": "stream",
     "text": [
      "4    36\n",
      "5    49\n",
      "dtype: int64\n",
      "0    4\n",
      "1    9\n",
      "dtype: int64\n"
     ]
    }
   ],
   "source": [
    "# lets take our old array `arr1` and its series `se2`\n",
    "\n",
    "print(se2.tail(2)) # returns last 2 val\n",
    "print(se2.head(2)) # returns first 2 val\n",
    "\n",
    "# easy.\n"
   ]
  },
  {
   "cell_type": "markdown",
   "id": "082740ec",
   "metadata": {},
   "source": [
    "### Math with Series?"
   ]
  },
  {
   "cell_type": "code",
   "execution_count": 10,
   "id": "f9b13238",
   "metadata": {},
   "outputs": [
    {
     "name": "stdout",
     "output_type": "stream",
     "text": [
      "0     6\n",
      "1    11\n",
      "2    18\n",
      "3    27\n",
      "4    38\n",
      "5    51\n",
      "dtype: int64\n",
      "0     8\n",
      "1    18\n",
      "2    32\n",
      "3    50\n",
      "4    72\n",
      "5    98\n",
      "dtype: int64\n"
     ]
    }
   ],
   "source": [
    "# let's take the same series as above, \n",
    "\n",
    "print(se2 + 2) # adds 2 to each value.\n",
    "print(se2*2) # multiplies each value by 2.\n",
    "\n",
    "#easy bro."
   ]
  },
  {
   "cell_type": "code",
   "execution_count": 12,
   "id": "c38cd9cb",
   "metadata": {},
   "outputs": [
    {
     "name": "stdout",
     "output_type": "stream",
     "text": [
      "[1, 2, 4, 1, 2, 4]\n",
      "[2 4 8]\n"
     ]
    }
   ],
   "source": [
    "a_list = [1, 2, 4]\n",
    "\n",
    "a_array = np.array([1, 2, 4])\n",
    "\n",
    "print(a_list*2)\n",
    "\n",
    "print(a_array*2)"
   ]
  },
  {
   "cell_type": "markdown",
   "id": "020439ed",
   "metadata": {},
   "source": [
    "## Conditionals?"
   ]
  },
  {
   "cell_type": "code",
   "execution_count": 11,
   "id": "2d1d41ac",
   "metadata": {},
   "outputs": [
    {
     "name": "stdout",
     "output_type": "stream",
     "text": [
      "0    False\n",
      "1    False\n",
      "2     True\n",
      "3     True\n",
      "4     True\n",
      "5     True\n",
      "dtype: bool\n",
      "2    16\n",
      "3    25\n",
      "4    36\n",
      "5    49\n",
      "dtype: int64\n"
     ]
    },
    {
     "data": {
      "text/plain": [
       "2    16\n",
       "3    25\n",
       "4    36\n",
       "dtype: int64"
      ]
     },
     "execution_count": 11,
     "metadata": {},
     "output_type": "execute_result"
    }
   ],
   "source": [
    "# same series\n",
    "print(se2 > 12) # see if each element is >, <, >=, <= than a value. boolean.\n",
    "\n",
    "print(se2.loc[lambda x : x>12])\n",
    "\n",
    "se2.loc[lambda x : (x<40) & (x>12)]"
   ]
  }
 ],
 "metadata": {
  "kernelspec": {
   "display_name": "ip-speedrun-dvhv",
   "language": "python",
   "name": "python3"
  },
  "language_info": {
   "codemirror_mode": {
    "name": "ipython",
    "version": 3
   },
   "file_extension": ".py",
   "mimetype": "text/x-python",
   "name": "python",
   "nbconvert_exporter": "python",
   "pygments_lexer": "ipython3",
   "version": "3.13.3"
  }
 },
 "nbformat": 4,
 "nbformat_minor": 5
}
