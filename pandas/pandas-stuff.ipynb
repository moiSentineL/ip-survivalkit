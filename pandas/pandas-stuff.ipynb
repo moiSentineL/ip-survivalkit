{
 "cells": [
  {
   "cell_type": "markdown",
   "id": "5138fee9",
   "metadata": {},
   "source": [
    "## This is where everything related to `pandas` goes.\n",
    "\n"
   ]
  }
 ],
 "metadata": {
  "language_info": {
   "name": "python"
  }
 },
 "nbformat": 4,
 "nbformat_minor": 5
}
