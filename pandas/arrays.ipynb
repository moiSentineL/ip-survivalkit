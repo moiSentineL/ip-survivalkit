{
 "cells": [
  {
   "cell_type": "code",
   "execution_count": 2,
   "id": "abb4cc8a",
   "metadata": {},
   "outputs": [],
   "source": [
    "# what are ndarrays?\n",
    "# they are just N-Dimensional matrices/arrays, but you gotta use numpy\n",
    "\n",
    "import numpy as np"
   ]
  },
  {
   "cell_type": "code",
   "execution_count": 6,
   "id": "5290a875",
   "metadata": {},
   "outputs": [
    {
     "name": "stdout",
     "output_type": "stream",
     "text": [
      "[ 4  9 16 25 36 49]\n",
      "[[ 1  3  5  7  9]\n",
      " [ 2  4  6  8 10]]\n"
     ]
    }
   ],
   "source": [
    "arr1 = np.array([4, 9, 16, 25, 36, 49]) # not `np.ndarray` bro.\n",
    "\n",
    "arr2 = np.array([[1, 3, 5, 7, 9], [2, 4, 6, 8 , 10]]) # this is a two dimensional array.\n",
    "print(arr1)\n",
    "\n",
    "print(arr2)"
   ]
  },
  {
   "cell_type": "code",
   "execution_count": 8,
   "id": "d328d571",
   "metadata": {},
   "outputs": [
    {
     "name": "stdout",
     "output_type": "stream",
     "text": [
      "[ 8 18 32 50 72 98]\n",
      "[2, 3, 4, 2, 3, 4]\n"
     ]
    }
   ],
   "source": [
    "print(arr1*2)\n",
    "\n",
    "l = [2, 3, 4]\n",
    "\n",
    "print(l*2)"
   ]
  },
  {
   "cell_type": "markdown",
   "id": "8ea3921a",
   "metadata": {},
   "source": [
    "### Indexing ndarrays"
   ]
  },
  {
   "cell_type": "code",
   "execution_count": null,
   "id": "75fca2a7",
   "metadata": {},
   "outputs": [
    {
     "name": "stdout",
     "output_type": "stream",
     "text": [
      "[1 3 5 7 9]\n",
      "[ 2  4  6  8 10]\n"
     ]
    }
   ],
   "source": [
    "# the first parameter is for dimensions, second is for the elements in that dimension.\n",
    "\n",
    "print(arr2[0]) # should print the D1 array\n",
    "print(arr2[1]) # should print the D2 array\n",
    "\n"
   ]
  }
 ],
 "metadata": {
  "kernelspec": {
   "display_name": "ip-speedrun-dvhv",
   "language": "python",
   "name": "python3"
  },
  "language_info": {
   "codemirror_mode": {
    "name": "ipython",
    "version": 3
   },
   "file_extension": ".py",
   "mimetype": "text/x-python",
   "name": "python",
   "nbconvert_exporter": "python",
   "pygments_lexer": "ipython3",
   "version": "3.13.3"
  }
 },
 "nbformat": 4,
 "nbformat_minor": 5
}
