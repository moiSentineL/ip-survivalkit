{
 "cells": [
  {
   "cell_type": "markdown",
   "id": "cb17d15e",
   "metadata": {},
   "source": [
    "## This is where eveything related to `matplotlib` goes.        "
   ]
  }
 ],
 "metadata": {
  "kernelspec": {
   "display_name": "ip-speedrun-dvhv",
   "language": "python",
   "name": "python3"
  },
  "language_info": {
   "name": "python",
   "version": "3.13.3"
  }
 },
 "nbformat": 4,
 "nbformat_minor": 5
}
