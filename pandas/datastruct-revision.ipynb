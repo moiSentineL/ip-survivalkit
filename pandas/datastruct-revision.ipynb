{
 "cells": [
  {
   "cell_type": "markdown",
   "id": "f4714ac9",
   "metadata": {},
   "source": [
    "## Revising Data Structures"
   ]
  },
  {
   "cell_type": "code",
   "execution_count": 2,
   "id": "5f89c3e6",
   "metadata": {},
   "outputs": [
    {
     "name": "stdout",
     "output_type": "stream",
     "text": [
      "[1, 2, 3] {'hey': 'there'} ('sub', 'now!')\n"
     ]
    }
   ],
   "source": [
    "# we got lists:\n",
    "l = [1, 2,3]\n",
    "\n",
    "# we got dicts:\n",
    "d = {\"hey\": \"there\"}\n",
    "\n",
    "# we got tuples:\n",
    "t = (\"sub\", \"now!\") # though this is immutable.\n",
    "\n",
    "# we print all of them:\n",
    "print(l,d, t)"
   ]
  },
  {
   "cell_type": "code",
   "execution_count": 3,
   "id": "26555d3b",
   "metadata": {},
   "outputs": [
    {
     "name": "stdout",
     "output_type": "stream",
     "text": [
      "3\n",
      "there\n"
     ]
    }
   ],
   "source": [
    "# indices all begin at 0 (for lists and tuples), and the \"key\" is the index for dicts.\n",
    "\n",
    "print(l[2]) #should return '3'\n",
    "\n",
    "print(d['hey'])"
   ]
  }
 ],
 "metadata": {
  "kernelspec": {
   "display_name": "ip-speedrun-dvhv",
   "language": "python",
   "name": "python3"
  },
  "language_info": {
   "codemirror_mode": {
    "name": "ipython",
    "version": 3
   },
   "file_extension": ".py",
   "mimetype": "text/x-python",
   "name": "python",
   "nbconvert_exporter": "python",
   "pygments_lexer": "ipython3",
   "version": "3.13.3"
  }
 },
 "nbformat": 4,
 "nbformat_minor": 5
}
